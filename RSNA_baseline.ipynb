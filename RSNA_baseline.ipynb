{
  "nbformat": 4,
  "nbformat_minor": 0,
  "metadata": {
    "colab": {
      "name": "RSNA_baseline.ipynb",
      "provenance": [],
      "authorship_tag": "ABX9TyNrMT2VsCDeBB0hUEfvGUe4",
      "include_colab_link": true
    },
    "kernelspec": {
      "name": "python3",
      "display_name": "Python 3"
    },
    "language_info": {
      "name": "python"
    },
    "accelerator": "GPU"
  },
  "cells": [
    {
      "cell_type": "markdown",
      "metadata": {
        "id": "view-in-github",
        "colab_type": "text"
      },
      "source": [
        "<a href=\"https://colab.research.google.com/github/CocoaSpice/china-dictatorship/blob/baseline/RSNA_baseline.ipynb\" target=\"_parent\"><img src=\"https://colab.research.google.com/assets/colab-badge.svg\" alt=\"Open In Colab\"/></a>"
      ]
    },
    {
      "cell_type": "code",
      "metadata": {
        "colab": {
          "base_uri": "https://localhost:8080/"
        },
        "id": "yDpWKvQgIKke",
        "outputId": "e3477f46-165e-4e1b-8078-5b23b63b9519"
      },
      "source": [
        "# Mount to Google Drive\n",
        "from google.colab import drive\n",
        "drive.mount('/content/drive')"
      ],
      "execution_count": 8,
      "outputs": [
        {
          "output_type": "stream",
          "name": "stdout",
          "text": [
            "Drive already mounted at /content/drive; to attempt to forcibly remount, call drive.mount(\"/content/drive\", force_remount=True).\n"
          ]
        }
      ]
    },
    {
      "cell_type": "code",
      "metadata": {
        "id": "JAJ5eaH8JRt3"
      },
      "source": [
        "# Authenticate GCP\n",
        "#from google.colab import auth\n",
        "#auth.authenticate_user()\n",
        "\n",
        "#project_id = 'rsna-326901'\n",
        "#! gcloud config set project {project_id}\n",
        "#! gsutil ls"
      ],
      "execution_count": 32,
      "outputs": []
    },
    {
      "cell_type": "code",
      "metadata": {
        "id": "nLf6c8W-Krml"
      },
      "source": [
        "# Import data\n",
        "#bucket_name = 'rsna_preprocessed'\n",
        "#!gsutil -m cp -r gs://{bucket_name}/ /content/drive/My\\ Drive/Data"
      ],
      "execution_count": 33,
      "outputs": []
    },
    {
      "cell_type": "markdown",
      "metadata": {
        "id": "SIExzDL2Rrw7"
      },
      "source": [
        "# Prepare dataset"
      ]
    },
    {
      "cell_type": "code",
      "metadata": {
        "id": "y--3iOoRNyA1"
      },
      "source": [
        "# Import packages\n",
        "import os\n",
        "import glob\n",
        "import csv\n",
        "import sys\n",
        "import time\n",
        "from tqdm import tqdm\n",
        "\n",
        "import math\n",
        "import random\n",
        "import numpy as np\n",
        "\n",
        "import cv2\n",
        "import PIL\n",
        "import matplotlib.pyplot as plt\n",
        "import seaborn as sns\n",
        "import pandas as pd\n",
        "\n",
        "import torch\n",
        "import torch.nn as nn\n",
        "import torch.nn.functional as F\n",
        "\n",
        "import albumentations"
      ],
      "execution_count": 9,
      "outputs": []
    },
    {
      "cell_type": "code",
      "metadata": {
        "colab": {
          "base_uri": "https://localhost:8080/",
          "height": 419
        },
        "id": "n36EinymWOMP",
        "outputId": "da08334c-12a2-4fcf-fc55-1b1886d8f66c"
      },
      "source": [
        "# Load train_labels.csv\n",
        "csv_path = '/content/drive/MyDrive/Data/rsna_preprocessed/train_labels.csv'\n",
        "\n",
        "train_labels = pd.read_csv(csv_path)\n",
        "train_labels"
      ],
      "execution_count": 10,
      "outputs": [
        {
          "output_type": "execute_result",
          "data": {
            "text/html": [
              "<div>\n",
              "<style scoped>\n",
              "    .dataframe tbody tr th:only-of-type {\n",
              "        vertical-align: middle;\n",
              "    }\n",
              "\n",
              "    .dataframe tbody tr th {\n",
              "        vertical-align: top;\n",
              "    }\n",
              "\n",
              "    .dataframe thead th {\n",
              "        text-align: right;\n",
              "    }\n",
              "</style>\n",
              "<table border=\"1\" class=\"dataframe\">\n",
              "  <thead>\n",
              "    <tr style=\"text-align: right;\">\n",
              "      <th></th>\n",
              "      <th>BraTS21ID</th>\n",
              "      <th>MGMT_value</th>\n",
              "    </tr>\n",
              "  </thead>\n",
              "  <tbody>\n",
              "    <tr>\n",
              "      <th>0</th>\n",
              "      <td>0</td>\n",
              "      <td>1</td>\n",
              "    </tr>\n",
              "    <tr>\n",
              "      <th>1</th>\n",
              "      <td>2</td>\n",
              "      <td>1</td>\n",
              "    </tr>\n",
              "    <tr>\n",
              "      <th>2</th>\n",
              "      <td>3</td>\n",
              "      <td>0</td>\n",
              "    </tr>\n",
              "    <tr>\n",
              "      <th>3</th>\n",
              "      <td>5</td>\n",
              "      <td>1</td>\n",
              "    </tr>\n",
              "    <tr>\n",
              "      <th>4</th>\n",
              "      <td>6</td>\n",
              "      <td>1</td>\n",
              "    </tr>\n",
              "    <tr>\n",
              "      <th>...</th>\n",
              "      <td>...</td>\n",
              "      <td>...</td>\n",
              "    </tr>\n",
              "    <tr>\n",
              "      <th>580</th>\n",
              "      <td>1005</td>\n",
              "      <td>1</td>\n",
              "    </tr>\n",
              "    <tr>\n",
              "      <th>581</th>\n",
              "      <td>1007</td>\n",
              "      <td>1</td>\n",
              "    </tr>\n",
              "    <tr>\n",
              "      <th>582</th>\n",
              "      <td>1008</td>\n",
              "      <td>1</td>\n",
              "    </tr>\n",
              "    <tr>\n",
              "      <th>583</th>\n",
              "      <td>1009</td>\n",
              "      <td>0</td>\n",
              "    </tr>\n",
              "    <tr>\n",
              "      <th>584</th>\n",
              "      <td>1010</td>\n",
              "      <td>0</td>\n",
              "    </tr>\n",
              "  </tbody>\n",
              "</table>\n",
              "<p>585 rows × 2 columns</p>\n",
              "</div>"
            ],
            "text/plain": [
              "     BraTS21ID  MGMT_value\n",
              "0            0           1\n",
              "1            2           1\n",
              "2            3           0\n",
              "3            5           1\n",
              "4            6           1\n",
              "..         ...         ...\n",
              "580       1005           1\n",
              "581       1007           1\n",
              "582       1008           1\n",
              "583       1009           0\n",
              "584       1010           0\n",
              "\n",
              "[585 rows x 2 columns]"
            ]
          },
          "metadata": {},
          "execution_count": 10
        }
      ]
    },
    {
      "cell_type": "code",
      "metadata": {
        "id": "ixcrGTldSNfZ"
      },
      "source": [
        "!pip install -q torchio"
      ],
      "execution_count": 11,
      "outputs": []
    },
    {
      "cell_type": "code",
      "metadata": {
        "id": "A6g07HGXakrP"
      },
      "source": [
        "import torchio as tio\n",
        "root_dir = '/content/drive/MyDrive/Data/rsna_preprocessed'\n",
        "\n",
        "# Load train_set and assign input_size\n",
        "transform = tio.Compose([tio.CropOrPad((251, 251, 150)),\n",
        "                         tio.RescaleIntensity(out_min_max=(0, 1)),])\n",
        "\n",
        "\n",
        "train_set = tio.datasets.RSNAMICCAI(root_dir, train=True, transform=transform)"
      ],
      "execution_count": 26,
      "outputs": []
    },
    {
      "cell_type": "code",
      "metadata": {
        "colab": {
          "base_uri": "https://localhost:8080/",
          "height": 298
        },
        "id": "G7YG_B8raq2V",
        "outputId": "c00b356f-ca1f-43bc-ea52-f6909b432405"
      },
      "source": [
        "subject = train_set[0]\n",
        "subject.plot()"
      ],
      "execution_count": 13,
      "outputs": [
        {
          "output_type": "display_data",
          "data": {
            "image/png": "[encoded data removed]",
            "text/plain": [
              "<Figure size 432x288 with 12 Axes>"
            ]
          },
          "metadata": {
            "needs_background": "light"
          }
        }
      ]
    },
    {
      "cell_type": "code",
      "metadata": {
        "id": "D52nP3rkdu9D",
        "colab": {
          "base_uri": "https://localhost:8080/"
        },
        "outputId": "b8377fbf-d053-4d62-e01e-3fca4fe211d2"
      },
      "source": [
        "# Split up train_set to train and val\n",
        "from torch.utils.data import random_split\n",
        "\n",
        "# Practice mode\n",
        "split_ratio = 0.9\n",
        "n_train_set = int(len(train_set) * split_ratio)\n",
        "n_val_set = len(train_set) - n_train_set\n",
        "\n",
        "train_set, val_set = random_split(train_set,\n",
        "                                  [n_train_set, n_val_set],\n",
        "                                  generator=torch.Generator().manual_seed(1))\n",
        "\n",
        "print(len(val_set))"
      ],
      "execution_count": 27,
      "outputs": [
        {
          "output_type": "stream",
          "name": "stdout",
          "text": [
            "59\n"
          ]
        }
      ]
    },
    {
      "cell_type": "code",
      "metadata": {
        "id": "CESTnmh1aDpI"
      },
      "source": [
        "# Practice mode: retrieve 10% for each of train_set and val_set\n",
        "train_set, val_set = random_split(val_set,\n",
        "                            [51, 8],\n",
        "                            generator=torch.Generator().manual_seed(1))"
      ],
      "execution_count": 28,
      "outputs": []
    },
    {
      "cell_type": "code",
      "metadata": {
        "id": "Ffb982pXa0Ue",
        "colab": {
          "base_uri": "https://localhost:8080/"
        },
        "outputId": "aaf3fd96-b97c-45c7-ebd1-15b38067f77f"
      },
      "source": [
        "# Generate dataloaders\n",
        "batch_size = 4\n",
        "\n",
        "train_loader = torch.utils.data.DataLoader(train_set,\n",
        "                                           batch_size=batch_size,\n",
        "                                           shuffle=True)\n",
        "\n",
        "val_loader = torch.utils.data.DataLoader(val_set,\n",
        "                                         batch_size=batch_size,\n",
        "                                         shuffle=False)\n",
        "\n",
        "print(len(train_loader))\n",
        "print(len(val_loader))"
      ],
      "execution_count": 29,
      "outputs": [
        {
          "output_type": "stream",
          "name": "stdout",
          "text": [
            "13\n",
            "2\n"
          ]
        }
      ]
    },
    {
      "cell_type": "markdown",
      "metadata": {
        "id": "LWDg35qjwOh6"
      },
      "source": [
        "# Import EfficientNet-3D"
      ]
    },
    {
      "cell_type": "code",
      "metadata": {
        "colab": {
          "base_uri": "https://localhost:8080/"
        },
        "id": "0heLiTBewoIU",
        "outputId": "b90f81d4-54e6-4e9b-9d1e-cd2c4244935d"
      },
      "source": [
        "!pip install git+https://github.com/shijianjian/EfficientNet-PyTorch-3D"
      ],
      "execution_count": 17,
      "outputs": [
        {
          "output_type": "stream",
          "name": "stdout",
          "text": [
            "Collecting git+https://github.com/shijianjian/EfficientNet-PyTorch-3D\n",
            "  Cloning https://github.com/shijianjian/EfficientNet-PyTorch-3D to /tmp/pip-req-build-k0ux77u9\n",
            "  Running command git clone -q https://github.com/shijianjian/EfficientNet-PyTorch-3D /tmp/pip-req-build-k0ux77u9\n",
            "Requirement already satisfied: torch in /usr/local/lib/python3.7/dist-packages (from efficientnet-pytorch-3d==0.6.3) (1.9.0+cu102)\n",
            "Requirement already satisfied: typing-extensions in /usr/local/lib/python3.7/dist-packages (from torch->efficientnet-pytorch-3d==0.6.3) (3.7.4.3)\n",
            "Building wheels for collected packages: efficientnet-pytorch-3d\n",
            "  Building wheel for efficientnet-pytorch-3d (setup.py) ... \u001b[?25l\u001b[?25hdone\n",
            "  Created wheel for efficientnet-pytorch-3d: filename=efficientnet_pytorch_3d-0.6.3-py3-none-any.whl size=16770 sha256=b2e43f1c5a965a77f5bb736e33d91a8b8715eae661a4823a6e4370b1710cf26a\n",
            "  Stored in directory: /tmp/pip-ephem-wheel-cache-0ujpb80b/wheels/ea/44/3d/89ce0e32ed262cff6c10d0586dc8f82bbb8ba1eeb47863abe5\n",
            "Successfully built efficientnet-pytorch-3d\n",
            "Installing collected packages: efficientnet-pytorch-3d\n",
            "Successfully installed efficientnet-pytorch-3d-0.6.3\n"
          ]
        }
      ]
    },
    {
      "cell_type": "code",
      "metadata": {
        "id": "4N_3e1yNwo4B"
      },
      "source": [
        "from efficientnet_pytorch_3d import EfficientNet3D\n",
        "\n",
        "model = EfficientNet3D.from_name(\"efficientnet-b0\", override_params={'num_classes': 1}, in_channels=1)\n",
        "model.cuda()\n",
        "\n",
        "device = torch.device('cuda') if torch.cuda.is_available() else 'cpu'"
      ],
      "execution_count": 18,
      "outputs": []
    },
    {
      "cell_type": "code",
      "metadata": {
        "id": "hzWDooYDpKI3"
      },
      "source": [
        "# Loss function and optimizer\n",
        "loss_fn = torch.nn.BCEWithLogitsLoss()\n",
        "optimizer = torch.optim.AdamW(model.parameters(), lr=0.001)\n",
        "\n",
        "# Import sklearn ROC_AUC score\n",
        "from sklearn.metrics import roc_auc_score"
      ],
      "execution_count": 19,
      "outputs": []
    },
    {
      "cell_type": "markdown",
      "metadata": {
        "id": "_oC9Bbl9lIcB"
      },
      "source": [
        "# Training"
      ]
    },
    {
      "cell_type": "code",
      "metadata": {
        "id": "9u_0jDxoC1n6"
      },
      "source": [
        "def train(epochs, scan_type):\n",
        "\n",
        "  # Generate lists for tracking training stats\n",
        "  ls_train_loss = []\n",
        "  ls_val_loss = []\n",
        "\n",
        "  # Training\n",
        "  for epoch_i in range(epochs):\n",
        "    print('【 Epoch {}/{} 】'.format(epoch_i+1, epochs))\n",
        "    print(' Training phase...')\n",
        "\n",
        "    # Reset train_loss\n",
        "    train_loss = 0\n",
        "    \n",
        "    # Set training mode\n",
        "    model.train()\n",
        "\n",
        "    for batch in tqdm(train_loader):\n",
        "\n",
        "      # reset optimizer\n",
        "      optimizer.zero_grad()\n",
        "\n",
        "      # Get input array\n",
        "      input = batch[scan_type]['data'].float().to(device)\n",
        "\n",
        "      # Feed to the model and get logit\n",
        "      logits = model(input).squeeze()\n",
        "      labels = batch['MGMT_value'].float().to(device)\n",
        "      \n",
        "      # Loss function\n",
        "      loss = loss_fn(logits, labels)\n",
        "      loss.backward()\n",
        "\n",
        "      # Optimizer\n",
        "      optimizer.step()\n",
        "\n",
        "      # Update train loss\n",
        "      train_loss += loss.item()\n",
        "\n",
        "    # Train stats of this epoch\n",
        "    avg_train_loss = train_loss/len(train_loader)\n",
        "    print('  Avg. train loss: {:.4f}'.format(avg_train_loss))\n",
        "    print('\\n')\n",
        "\n",
        "    print(' Validation phase...')\n",
        "\n",
        "    # Reset train_loss\n",
        "    val_loss = 0\n",
        "    \n",
        "    # Set training mode\n",
        "    model.eval()\n",
        "\n",
        "    with torch.no_grad():\n",
        "      for batch in tqdm(val_loader):\n",
        "\n",
        "        # Get input array\n",
        "        input = batch[scan_type]['data'].float().to(device)\n",
        "\n",
        "        # Feed to the model and get logit\n",
        "        logits = model(input).squeeze()\n",
        "        labels = batch['MGMT_value'].float().to(device)\n",
        "      \n",
        "        # Loss function\n",
        "        loss = loss_fn(logits, labels)\n",
        "      \n",
        "        # Update train loss\n",
        "        val_loss += loss.item()\n",
        "\n",
        "      # Train stats of this epoch\n",
        "      avg_val_loss = val_loss/len(val_loader)\n",
        "      print('  Avg. val loss: {:.4f}'.format(avg_val_loss))\n",
        "      print('\\n')\n",
        "\n",
        "    # Recording train stats\n",
        "    ls_train_loss.append(avg_train_loss)\n",
        "    ls_val_loss.append(avg_val_loss)\n",
        "\n",
        "    print(ls_train_loss)\n",
        "    print(ls_val_loss)\n",
        "    print('\\n')\n",
        "    \n",
        "    # Save model if val_loss is less than the previous losses\n",
        "    if len(ls_val_loss) == 1:\n",
        "      model_dir = '/content/drive/MyDrive/Colab Notebooks/RSNA/model'\n",
        "      model_name = 'model_' + scan_type\n",
        "      PATH = os.path.join(model_dir, model_name) + '.pt'\n",
        "      torch.save(model.state_dict(), PATH)\n",
        "      print('  >> Model weights saved.')  \n",
        "      print('\\n')    \n",
        "    \n",
        "    elif val_loss < min(ls_val_loss):\n",
        "      model_dir = '/content/drive/MyDrive/Colab Notebooks/RSNA/model'\n",
        "      model_name = 'model_' + scan_type\n",
        "      PATH = os.path.join(model_dir, model_name) + '.pt'\n",
        "      torch.save(model.state_dict(), PATH)\n",
        "      print('  >> Model weights saved.')\n",
        "      print('\\n')\n",
        "\n",
        "  return ls_train_loss, ls_val_loss"
      ],
      "execution_count": 20,
      "outputs": []
    },
    {
      "cell_type": "code",
      "metadata": {
        "colab": {
          "base_uri": "https://localhost:8080/"
        },
        "id": "Kf1NCSj8QNqE",
        "outputId": "75b8cb06-82f3-4e80-d0f9-fda599b213f0"
      },
      "source": [
        "ls1, ls2 = train(epochs=10,\n",
        "                 scan_type='FLAIR')"
      ],
      "execution_count": 30,
      "outputs": [
        {
          "output_type": "stream",
          "name": "stdout",
          "text": [
            "【 Epoch 1/10 】\n",
            " Training phase...\n"
          ]
        },
        {
          "output_type": "stream",
          "name": "stderr",
          "text": [
            "100%|██████████| 13/13 [01:27<00:00,  6.73s/it]\n"
          ]
        },
        {
          "output_type": "stream",
          "name": "stdout",
          "text": [
            "  Avg. train loss: 0.8491\n",
            "\n",
            "\n",
            " Validation phase...\n"
          ]
        },
        {
          "output_type": "stream",
          "name": "stderr",
          "text": [
            "100%|██████████| 2/2 [00:11<00:00,  5.78s/it]\n"
          ]
        },
        {
          "output_type": "stream",
          "name": "stdout",
          "text": [
            "  Avg. val loss: 0.6927\n",
            "\n",
            "\n",
            "[0.8491188287734985]\n",
            "[0.6927095055580139]\n",
            "  >> Model weights saved.\n",
            "\n",
            "\n",
            "【 Epoch 2/10 】\n",
            " Training phase...\n"
          ]
        },
        {
          "output_type": "stream",
          "name": "stderr",
          "text": [
            "100%|██████████| 13/13 [01:28<00:00,  6.81s/it]\n"
          ]
        },
        {
          "output_type": "stream",
          "name": "stdout",
          "text": [
            "  Avg. train loss: 0.7261\n",
            "\n",
            "\n",
            " Validation phase...\n"
          ]
        },
        {
          "output_type": "stream",
          "name": "stderr",
          "text": [
            "100%|██████████| 2/2 [00:11<00:00,  5.86s/it]\n"
          ]
        },
        {
          "output_type": "stream",
          "name": "stdout",
          "text": [
            "  Avg. val loss: 0.6931\n",
            "\n",
            "\n",
            "[0.8491188287734985, 0.7261449832182664]\n",
            "[0.6927095055580139, 0.6931102275848389]\n",
            "【 Epoch 3/10 】\n",
            " Training phase...\n"
          ]
        },
        {
          "output_type": "stream",
          "name": "stderr",
          "text": [
            "100%|██████████| 13/13 [01:26<00:00,  6.69s/it]\n"
          ]
        },
        {
          "output_type": "stream",
          "name": "stdout",
          "text": [
            "  Avg. train loss: 0.7675\n",
            "\n",
            "\n",
            " Validation phase...\n"
          ]
        },
        {
          "output_type": "stream",
          "name": "stderr",
          "text": [
            "100%|██████████| 2/2 [00:11<00:00,  5.66s/it]\n"
          ]
        },
        {
          "output_type": "stream",
          "name": "stdout",
          "text": [
            "  Avg. val loss: 0.6984\n",
            "\n",
            "\n",
            "[0.8491188287734985, 0.7261449832182664, 0.7674680168812091]\n",
            "[0.6927095055580139, 0.6931102275848389, 0.6983630657196045]\n",
            "【 Epoch 4/10 】\n",
            " Training phase...\n"
          ]
        },
        {
          "output_type": "stream",
          "name": "stderr",
          "text": [
            "100%|██████████| 13/13 [01:27<00:00,  6.75s/it]\n"
          ]
        },
        {
          "output_type": "stream",
          "name": "stdout",
          "text": [
            "  Avg. train loss: 0.7197\n",
            "\n",
            "\n",
            " Validation phase...\n"
          ]
        },
        {
          "output_type": "stream",
          "name": "stderr",
          "text": [
            "100%|██████████| 2/2 [00:11<00:00,  5.83s/it]\n"
          ]
        },
        {
          "output_type": "stream",
          "name": "stdout",
          "text": [
            "  Avg. val loss: 0.6671\n",
            "\n",
            "\n",
            "[0.8491188287734985, 0.7261449832182664, 0.7674680168812091, 0.7196560777150668]\n",
            "[0.6927095055580139, 0.6931102275848389, 0.6983630657196045, 0.6671119034290314]\n",
            "【 Epoch 5/10 】\n",
            " Training phase...\n"
          ]
        },
        {
          "output_type": "stream",
          "name": "stderr",
          "text": [
            "100%|██████████| 13/13 [01:28<00:00,  6.84s/it]\n"
          ]
        },
        {
          "output_type": "stream",
          "name": "stdout",
          "text": [
            "  Avg. train loss: 0.7861\n",
            "\n",
            "\n",
            " Validation phase...\n"
          ]
        },
        {
          "output_type": "stream",
          "name": "stderr",
          "text": [
            "100%|██████████| 2/2 [00:11<00:00,  5.65s/it]\n"
          ]
        },
        {
          "output_type": "stream",
          "name": "stdout",
          "text": [
            "  Avg. val loss: 0.7104\n",
            "\n",
            "\n",
            "[0.8491188287734985, 0.7261449832182664, 0.7674680168812091, 0.7196560777150668, 0.786065032848945]\n",
            "[0.6927095055580139, 0.6931102275848389, 0.6983630657196045, 0.6671119034290314, 0.7103950083255768]\n",
            "【 Epoch 6/10 】\n",
            " Training phase...\n"
          ]
        },
        {
          "output_type": "stream",
          "name": "stderr",
          "text": [
            "100%|██████████| 13/13 [01:27<00:00,  6.70s/it]\n"
          ]
        },
        {
          "output_type": "stream",
          "name": "stdout",
          "text": [
            "  Avg. train loss: 0.7272\n",
            "\n",
            "\n",
            " Validation phase...\n"
          ]
        },
        {
          "output_type": "stream",
          "name": "stderr",
          "text": [
            "100%|██████████| 2/2 [00:11<00:00,  5.73s/it]\n"
          ]
        },
        {
          "output_type": "stream",
          "name": "stdout",
          "text": [
            "  Avg. val loss: 0.7052\n",
            "\n",
            "\n",
            "[0.8491188287734985, 0.7261449832182664, 0.7674680168812091, 0.7196560777150668, 0.786065032848945, 0.7272022091425382]\n",
            "[0.6927095055580139, 0.6931102275848389, 0.6983630657196045, 0.6671119034290314, 0.7103950083255768, 0.7052229046821594]\n",
            "【 Epoch 7/10 】\n",
            " Training phase...\n"
          ]
        },
        {
          "output_type": "stream",
          "name": "stderr",
          "text": [
            "100%|██████████| 13/13 [01:29<00:00,  6.86s/it]\n"
          ]
        },
        {
          "output_type": "stream",
          "name": "stdout",
          "text": [
            "  Avg. train loss: 0.7107\n",
            "\n",
            "\n",
            " Validation phase...\n"
          ]
        },
        {
          "output_type": "stream",
          "name": "stderr",
          "text": [
            "100%|██████████| 2/2 [00:11<00:00,  5.78s/it]\n"
          ]
        },
        {
          "output_type": "stream",
          "name": "stdout",
          "text": [
            "  Avg. val loss: 0.6978\n",
            "\n",
            "\n",
            "[0.8491188287734985, 0.7261449832182664, 0.7674680168812091, 0.7196560777150668, 0.786065032848945, 0.7272022091425382, 0.7107272790028498]\n",
            "[0.6927095055580139, 0.6931102275848389, 0.6983630657196045, 0.6671119034290314, 0.7103950083255768, 0.7052229046821594, 0.697769045829773]\n",
            "【 Epoch 8/10 】\n",
            " Training phase...\n"
          ]
        },
        {
          "output_type": "stream",
          "name": "stderr",
          "text": [
            "100%|██████████| 13/13 [01:28<00:00,  6.79s/it]\n"
          ]
        },
        {
          "output_type": "stream",
          "name": "stdout",
          "text": [
            "  Avg. train loss: 0.7284\n",
            "\n",
            "\n",
            " Validation phase...\n"
          ]
        },
        {
          "output_type": "stream",
          "name": "stderr",
          "text": [
            "100%|██████████| 2/2 [00:11<00:00,  5.95s/it]\n"
          ]
        },
        {
          "output_type": "stream",
          "name": "stdout",
          "text": [
            "  Avg. val loss: 0.6947\n",
            "\n",
            "\n",
            "[0.8491188287734985, 0.7261449832182664, 0.7674680168812091, 0.7196560777150668, 0.786065032848945, 0.7272022091425382, 0.7107272790028498, 0.7284137560771062]\n",
            "[0.6927095055580139, 0.6931102275848389, 0.6983630657196045, 0.6671119034290314, 0.7103950083255768, 0.7052229046821594, 0.697769045829773, 0.6947020888328552]\n",
            "【 Epoch 9/10 】\n",
            " Training phase...\n"
          ]
        },
        {
          "output_type": "stream",
          "name": "stderr",
          "text": [
            "100%|██████████| 13/13 [01:28<00:00,  6.80s/it]\n"
          ]
        },
        {
          "output_type": "stream",
          "name": "stdout",
          "text": [
            "  Avg. train loss: 0.6939\n",
            "\n",
            "\n",
            " Validation phase...\n"
          ]
        },
        {
          "output_type": "stream",
          "name": "stderr",
          "text": [
            "100%|██████████| 2/2 [00:11<00:00,  5.91s/it]\n"
          ]
        },
        {
          "output_type": "stream",
          "name": "stdout",
          "text": [
            "  Avg. val loss: 0.6968\n",
            "\n",
            "\n",
            "[0.8491188287734985, 0.7261449832182664, 0.7674680168812091, 0.7196560777150668, 0.786065032848945, 0.7272022091425382, 0.7107272790028498, 0.7284137560771062, 0.6939303599871122]\n",
            "[0.6927095055580139, 0.6931102275848389, 0.6983630657196045, 0.6671119034290314, 0.7103950083255768, 0.7052229046821594, 0.697769045829773, 0.6947020888328552, 0.6967653036117554]\n",
            "【 Epoch 10/10 】\n",
            " Training phase...\n"
          ]
        },
        {
          "output_type": "stream",
          "name": "stderr",
          "text": [
            "100%|██████████| 13/13 [01:28<00:00,  6.79s/it]\n"
          ]
        },
        {
          "output_type": "stream",
          "name": "stdout",
          "text": [
            "  Avg. train loss: 0.7079\n",
            "\n",
            "\n",
            " Validation phase...\n"
          ]
        },
        {
          "output_type": "stream",
          "name": "stderr",
          "text": [
            "100%|██████████| 2/2 [00:11<00:00,  5.85s/it]"
          ]
        },
        {
          "output_type": "stream",
          "name": "stdout",
          "text": [
            "  Avg. val loss: 0.7227\n",
            "\n",
            "\n",
            "[0.8491188287734985, 0.7261449832182664, 0.7674680168812091, 0.7196560777150668, 0.786065032848945, 0.7272022091425382, 0.7107272790028498, 0.7284137560771062, 0.6939303599871122, 0.707878956427941]\n",
            "[0.6927095055580139, 0.6931102275848389, 0.6983630657196045, 0.6671119034290314, 0.7103950083255768, 0.7052229046821594, 0.697769045829773, 0.6947020888328552, 0.6967653036117554, 0.7227189242839813]\n"
          ]
        },
        {
          "output_type": "stream",
          "name": "stderr",
          "text": [
            "\n"
          ]
        }
      ]
    },
    {
      "cell_type": "code",
      "metadata": {
        "colab": {
          "base_uri": "https://localhost:8080/",
          "height": 282
        },
        "id": "UYwxcBfTzV6e",
        "outputId": "e8659a20-ffd9-4d0d-de4d-72fc95782bae"
      },
      "source": [
        "# Visualize train_stat\n",
        "plt.plot(ls1)\n",
        "plt.plot(ls2, linestyle='--')"
      ],
      "execution_count": 31,
      "outputs": [
        {
          "output_type": "execute_result",
          "data": {
            "text/plain": [
              "[<matplotlib.lines.Line2D at 0x7fb988086c50>]"
            ]
          },
          "metadata": {},
          "execution_count": 31
        },
        {
          "output_type": "display_data",
          "data": {
            "image/png": "[encoded data removed]",
            "text/plain": [
              "<Figure size 432x288 with 1 Axes>"
            ]
          },
          "metadata": {
            "needs_background": "light"
          }
        }
      ]
    },
    {
      "cell_type": "code",
      "metadata": {
        "id": "B9R-4yZL_1Cy"
      },
      "source": [
        ""
      ],
      "execution_count": null,
      "outputs": []
    }
  ]
}